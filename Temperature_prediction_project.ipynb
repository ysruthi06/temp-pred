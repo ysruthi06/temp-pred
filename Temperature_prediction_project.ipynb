{
  "cells": [
    {
      "cell_type": "code",
      "execution_count": null,
      "metadata": {
        "colab": {
          "base_uri": "https://localhost:8080/"
        },
        "id": "GoJ29FICpog1",
        "outputId": "3a47af72-1ca0-4bb7-b12d-761f918e74cf"
      },
      "outputs": [
        {
          "name": "stdout",
          "output_type": "stream",
          "text": [
            "Time format converted and data saved to output.csv\n"
          ]
        }
      ],
      "source": [
        "import pandas as pd\n",
        "\n",
        "# Read the input CSV file\n",
        "df = pd.read_csv(\"/content/sample_data/final_data.csv\")\n",
        "\n",
        "# Convert the time format from HH:MM:SS to integer\n",
        "df['Hour'] = df['Hour'].apply(lambda x: int(x.split(':')[0]))\n",
        "\n",
        "# Save the updated data to a new CSV file\n",
        "output_file = \"output.csv\"\n",
        "df.to_csv(output_file, index=False)\n",
        "\n",
        "print(\"Time format converted and data saved to\", output_file)"
      ]
    },
    {
      "cell_type": "code",
      "execution_count": null,
      "metadata": {
        "colab": {
          "background_save": true
        },
        "id": "hRLlR7vLivl2",
        "outputId": "aa662f49-ce2b-44db-98da-71b50f53f2c6"
      },
      "outputs": [
        {
          "name": "stdout",
          "output_type": "stream",
          "text": [
            "Optimal Configuration - X: 8000, Y: 8100, Accuracy: 85.71%\n"
          ]
        }
      ],
      "source": [
        "import pandas as pd\n",
        "from sklearn.model_selection import train_test_split\n",
        "from sklearn.ensemble import RandomForestRegressor\n",
        "from sklearn.metrics import mean_squared_error\n",
        "import numpy as np\n",
        "\n",
        "# Load your data from CSV\n",
        "data = pd.read_csv('/content/sample_data/output.csv')\n",
        "\n",
        "# Convert 'Rain' column to binary (1 for 'Yes', 0 for 'No')\n",
        "data['Rain'] = data['Rain'].apply(lambda x: 1 if x == 'Yes' else 0)\n",
        "\n",
        "# Define the features and target variable\n",
        "features = ['Hour', 'WS', 'RH', 'Rain']\n",
        "target = 'Temp'\n",
        "\n",
        "# Initialize variables to store the best configuration\n",
        "best_X = 0\n",
        "best_Y = 0\n",
        "best_accuracy = 0\n",
        "\n",
        "# Define the maximum values of X and Y\n",
        "max_X = 8000\n",
        "max_Y = 8659\n",
        "\n",
        "# Iterate through different values of X and Y\n",
        "for X in range(100, max_X + 1, 100):\n",
        "    for Y in range(X, min(max_Y, X + 1000) + 1, 100):\n",
        "        # Split the data into training and testing sets\n",
        "        train_data = data.head(X)\n",
        "        test_data = data.tail(Y)\n",
        "\n",
        "        # Create the feature matrix and target vector\n",
        "        X_train = train_data[features]\n",
        "        y_train = train_data[target]\n",
        "        X_test = test_data[features]\n",
        "        y_test = test_data[target]\n",
        "\n",
        "        # Train a Random Forest Regressor model\n",
        "        model = RandomForestRegressor(n_estimators=100, random_state=42)\n",
        "        model.fit(X_train, y_train)\n",
        "\n",
        "        # Make predictions\n",
        "        y_pred = model.predict(X_test)\n",
        "\n",
        "        # Calculate the accuracy (e.g., using Mean Squared Error)\n",
        "        accuracy = 1 - mean_squared_error(y_test, y_pred) / np.var(y_test)\n",
        "\n",
        "        # Update the best configuration if the accuracy is higher\n",
        "        if accuracy > best_accuracy:\n",
        "            best_X = X\n",
        "            best_Y = Y\n",
        "            best_accuracy = accuracy\n",
        "\n",
        "print(\"Optimal Configuration - X: {}, Y: {}, Accuracy: {:.2f}%\".format(best_X, best_Y, best_accuracy * 100))\n",
        "\n",
        "# Now you can train the final model using the best configuration (best_X) and predict temperature\n",
        "final_train_data = data.head(best_X)\n",
        "final_test_data = data.tail(best_Y)\n",
        "X_final_train = final_train_data[features]\n",
        "y_final_train = final_train_data[target]\n",
        "X_final_test = final_test_data[features]\n",
        "y_final_test = final_test_data[target]\n",
        "\n",
        "final_model = RandomForestRegressor(n_estimators=100, random_state=42)\n",
        "final_model.fit(X_final_train, y_final_train)\n",
        "\n",
        "# Make predictions for the final test data\n",
        "final_y_pred = final_model.predict(X_final_test)\n",
        "\n",
        "# Save the results to a CSV file\n",
        "results = pd.DataFrame({'Actual': y_final_test, 'Predicted': final_y_pred})\n",
        "results.to_csv('temperature_predictions.csv', index=False)\n"
      ]
    },
    {
      "cell_type": "code",
      "execution_count": null,
      "metadata": {
        "id": "SGKkFfpj6BLJ"
      },
      "outputs": [],
      "source": [
        "from scipy.stats import pearsonr\n",
        "\n",
        "# Calculate correlation between actual and predicted values\n",
        "correlation, _ = pearsonr(y_final_test, final_y_pred)\n",
        "\n",
        "# Calculate bias (mean error)\n",
        "bias = np.mean(final_y_pred - y_final_test)\n"
      ]
    },
    {
      "cell_type": "code",
      "source": [
        "import matplotlib.pyplot as plt\n",
        "\n",
        "# Plot actual vs. predicted temperature\n",
        "plt.figure(figsize=(10, 6))\n",
        "plt.scatter(y_final_test, final_y_pred, color='blue', label='Actual vs. Predicted')\n",
        "plt.plot([min(y_final_test), max(y_final_test)], [min(y_final_test), max(y_final_test)], color='red', linestyle='--', linewidth=2, label='Ideal Line')\n",
        "plt.xlabel('Actual Temperature')\n",
        "plt.ylabel('Predicted Temperature')\n",
        "plt.title('Actual vs. Predicted Temperature')\n",
        "plt.legend()\n",
        "plt.savefig('actual_vs_predicted.png')\n",
        "plt.close()\n",
        "\n",
        "# Scatter plot of predicted and observed values\n",
        "plt.figure(figsize=(10, 6))\n",
        "plt.scatter(y_final_test, final_y_pred, color='green', label='Scatter Plot')\n",
        "plt.xlabel('Actual Temperature')\n",
        "plt.ylabel('Predicted Temperature')\n",
        "plt.title('Scatter Plot of Actual vs. Predicted Temperature')\n",
        "plt.legend()\n",
        "plt.savefig('scatter_plot.png')\n",
        "plt.close()\n",
        "\n",
        "# Save correlation and bias to a text file\n",
        "with open('correlation_bias.txt', 'w') as file:\n",
        "    file.write('Correlation: {:.2f}\\n'.format(correlation))\n",
        "    file.write('Bias: {:.2f}\\n'.format(bias))\n",
        "\n",
        "print(\"Validation plots and statistical metrics saved.\")\n"
      ],
      "metadata": {
        "id": "uipOIr7E_fGJ",
        "outputId": "ddf30698-b484-4321-a112-ece9491cf5f2",
        "colab": {
          "base_uri": "https://localhost:8080/"
        }
      },
      "execution_count": null,
      "outputs": [
        {
          "output_type": "stream",
          "name": "stdout",
          "text": [
            "Validation plots and statistical metrics saved.\n"
          ]
        }
      ]
    }
  ],
  "metadata": {
    "colab": {
      "provenance": []
    },
    "kernelspec": {
      "display_name": "Python 3",
      "name": "python3"
    },
    "language_info": {
      "name": "python"
    }
  },
  "nbformat": 4,
  "nbformat_minor": 0
}